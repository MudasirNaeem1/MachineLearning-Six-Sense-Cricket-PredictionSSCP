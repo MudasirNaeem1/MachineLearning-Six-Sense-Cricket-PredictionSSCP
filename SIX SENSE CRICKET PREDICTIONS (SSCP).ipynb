{
 "cells": [
  {
   "cell_type": "code",
   "execution_count": 1,
   "id": "8084bf0e",
   "metadata": {},
   "outputs": [],
   "source": [
    "# 1) Importing All Libraries\n",
    "\n",
    "import pandas as pd\n",
    "import numpy as np\n",
    "from sklearn.ensemble import RandomForestClassifier\n",
    "from sklearn.compose import ColumnTransformer\n",
    "from sklearn.model_selection import train_test_split\n",
    "from sklearn.preprocessing import OneHotEncoder\n",
    "from sklearn.metrics import accuracy_score\n",
    "from sklearn.pipeline import Pipeline\n",
    "import matplotlib.pyplot as plt\n",
    "import customtkinter as ctk\n",
    "import tkinter as tk"
   ]
  },
  {
   "cell_type": "code",
   "execution_count": 2,
   "id": "eeed66a3",
   "metadata": {},
   "outputs": [
    {
     "data": {
      "text/html": [
       "<div>\n",
       "<style scoped>\n",
       "    .dataframe tbody tr th:only-of-type {\n",
       "        vertical-align: middle;\n",
       "    }\n",
       "\n",
       "    .dataframe tbody tr th {\n",
       "        vertical-align: top;\n",
       "    }\n",
       "\n",
       "    .dataframe thead th {\n",
       "        text-align: right;\n",
       "    }\n",
       "</style>\n",
       "<table border=\"1\" class=\"dataframe\">\n",
       "  <thead>\n",
       "    <tr style=\"text-align: right;\">\n",
       "      <th></th>\n",
       "      <th>Bat First</th>\n",
       "      <th>Bat Second</th>\n",
       "      <th>Venue</th>\n",
       "      <th>Winner</th>\n",
       "    </tr>\n",
       "  </thead>\n",
       "  <tbody>\n",
       "    <tr>\n",
       "      <th>0</th>\n",
       "      <td>West Indies</td>\n",
       "      <td>South Africa</td>\n",
       "      <td>SuperSport Park</td>\n",
       "      <td>South Africa</td>\n",
       "    </tr>\n",
       "    <tr>\n",
       "      <th>1</th>\n",
       "      <td>West Indies</td>\n",
       "      <td>South Africa</td>\n",
       "      <td>SuperSport Park</td>\n",
       "      <td>South Africa</td>\n",
       "    </tr>\n",
       "    <tr>\n",
       "      <th>2</th>\n",
       "      <td>West Indies</td>\n",
       "      <td>South Africa</td>\n",
       "      <td>SuperSport Park</td>\n",
       "      <td>South Africa</td>\n",
       "    </tr>\n",
       "    <tr>\n",
       "      <th>3</th>\n",
       "      <td>West Indies</td>\n",
       "      <td>South Africa</td>\n",
       "      <td>SuperSport Park</td>\n",
       "      <td>South Africa</td>\n",
       "    </tr>\n",
       "    <tr>\n",
       "      <th>4</th>\n",
       "      <td>West Indies</td>\n",
       "      <td>South Africa</td>\n",
       "      <td>SuperSport Park</td>\n",
       "      <td>South Africa</td>\n",
       "    </tr>\n",
       "    <tr>\n",
       "      <th>...</th>\n",
       "      <td>...</td>\n",
       "      <td>...</td>\n",
       "      <td>...</td>\n",
       "      <td>...</td>\n",
       "    </tr>\n",
       "    <tr>\n",
       "      <th>402938</th>\n",
       "      <td>Ireland</td>\n",
       "      <td>England</td>\n",
       "      <td>Melbourne Cricket Ground</td>\n",
       "      <td>Ireland</td>\n",
       "    </tr>\n",
       "    <tr>\n",
       "      <th>402939</th>\n",
       "      <td>Ireland</td>\n",
       "      <td>England</td>\n",
       "      <td>Melbourne Cricket Ground</td>\n",
       "      <td>Ireland</td>\n",
       "    </tr>\n",
       "    <tr>\n",
       "      <th>402940</th>\n",
       "      <td>Ireland</td>\n",
       "      <td>England</td>\n",
       "      <td>Melbourne Cricket Ground</td>\n",
       "      <td>Ireland</td>\n",
       "    </tr>\n",
       "    <tr>\n",
       "      <th>402941</th>\n",
       "      <td>Ireland</td>\n",
       "      <td>England</td>\n",
       "      <td>Melbourne Cricket Ground</td>\n",
       "      <td>Ireland</td>\n",
       "    </tr>\n",
       "    <tr>\n",
       "      <th>402942</th>\n",
       "      <td>Ireland</td>\n",
       "      <td>England</td>\n",
       "      <td>Melbourne Cricket Ground</td>\n",
       "      <td>Ireland</td>\n",
       "    </tr>\n",
       "  </tbody>\n",
       "</table>\n",
       "<p>36850 rows × 4 columns</p>\n",
       "</div>"
      ],
      "text/plain": [
       "          Bat First    Bat Second                     Venue        Winner\n",
       "0       West Indies  South Africa           SuperSport Park  South Africa\n",
       "1       West Indies  South Africa           SuperSport Park  South Africa\n",
       "2       West Indies  South Africa           SuperSport Park  South Africa\n",
       "3       West Indies  South Africa           SuperSport Park  South Africa\n",
       "4       West Indies  South Africa           SuperSport Park  South Africa\n",
       "...             ...           ...                       ...           ...\n",
       "402938      Ireland       England  Melbourne Cricket Ground       Ireland\n",
       "402939      Ireland       England  Melbourne Cricket Ground       Ireland\n",
       "402940      Ireland       England  Melbourne Cricket Ground       Ireland\n",
       "402941      Ireland       England  Melbourne Cricket Ground       Ireland\n",
       "402942      Ireland       England  Melbourne Cricket Ground       Ireland\n",
       "\n",
       "[36850 rows x 4 columns]"
      ]
     },
     "metadata": {},
     "output_type": "display_data"
    }
   ],
   "source": [
    "# 2) Cleaning The Data\n",
    "\n",
    "df = pd.read_csv(\"ball_by_ball_it20.csv\")\n",
    "\n",
    "# 2.1) Getting Only Required Columns\n",
    "df = df[['Match ID', 'Bat First', 'Bat Second', 'Venue', 'Winner']]\n",
    "\n",
    "# 2.2) Asuming Top 11 Teams\n",
    "teams = ['West Indies', 'Sri Lanka', 'England', 'Bangladesh', 'India', 'New Zealand', 'Pakistan', 'Afghanistan', 'South Africa', 'Australia', 'Ireland']\n",
    "\n",
    "# 2.3) Making All Possible Match Combinations\n",
    "team_combinations = [(team1, team2) for team1 in teams for team2 in teams if team1 != team2]\n",
    "\n",
    "all_matches = []\n",
    "\n",
    "# 2.4) Getting 3 Unique Match IDs Of All Combinations\n",
    "for team1, team2 in team_combinations:\n",
    "    match_ids = df[(df['Bat First'].isin([team1, team2])) & (df['Bat Second'].isin([team1, team2]))]['Match ID'].unique()[:3]\n",
    "    all_matches.append((team1, team2, match_ids))\n",
    "    \n",
    "all_match_ids = [match_id for pair in all_matches for match_id in pair[2]]\n",
    "\n",
    "# 2.5) Filtering The Data According To Match IDs\n",
    "detailed_matches_info = df[df['Match ID'].isin(all_match_ids)]\n",
    "df = detailed_matches_info.drop(columns = ['Match ID'])\n",
    "display(df)"
   ]
  },
  {
   "cell_type": "code",
   "execution_count": 3,
   "id": "90d403c8",
   "metadata": {},
   "outputs": [],
   "source": [
    "# 3) Spliting The Data Into Test Train\n",
    "\n",
    "X_train, X_test, y_train, y_test = train_test_split(df.drop(columns = ['Winner']), df['Winner'], test_size = 0.10, random_state = 42)"
   ]
  },
  {
   "cell_type": "code",
   "execution_count": 4,
   "id": "2bacce8e",
   "metadata": {},
   "outputs": [],
   "source": [
    "# 4) Making ColumnTransformer For OneHotEncoding\n",
    "\n",
    "transformer1 = ColumnTransformer([('ohe_first_second_venue', OneHotEncoder(sparse_output = False, handle_unknown = 'ignore'), [0,1,2])], remainder = 'passthrough')"
   ]
  },
  {
   "cell_type": "code",
   "execution_count": 5,
   "id": "81dc850d",
   "metadata": {},
   "outputs": [],
   "source": [
    "#transformer2 = RandomForestClassifier()"
   ]
  },
  {
   "cell_type": "code",
   "execution_count": 6,
   "id": "8b600cde",
   "metadata": {},
   "outputs": [],
   "source": [
    "# pipe = Pipeline([('transformer1', transformer1), ('transformer2', transformer2)])"
   ]
  },
  {
   "cell_type": "code",
   "execution_count": 7,
   "id": "3f55116a",
   "metadata": {
    "scrolled": true
   },
   "outputs": [
    {
     "name": "stdout",
     "output_type": "stream",
     "text": [
      "Accuracy Score :  0.9766621438263229 with n_estimators :  1\n"
     ]
    },
    {
     "data": {
      "image/png": "[encoded data removed]",
      "text/plain": [
       "<Figure size 640x480 with 1 Axes>"
      ]
     },
     "metadata": {},
     "output_type": "display_data"
    }
   ],
   "source": [
    "# 5) Plotting The Accuracy Graph (Optional Does Not Effect Actual Prediction)\n",
    "\n",
    "scores = []\n",
    "\n",
    "# 5.1) Varying The N_Estimators By 20 from 1 - 201\n",
    "jump = 20\n",
    "for k in range(1, 201, jump):\n",
    "    \n",
    "    # 5.2) Creating RandomForestClassifer Object With \"K\" N_Estimators\n",
    "    transformer2 = RandomForestClassifier(n_estimators = k)\n",
    "    \n",
    "    # 5.3) Making A PipeLine\n",
    "    pipe = Pipeline([('transformer1', transformer1), ('transformer2', transformer2)])\n",
    "    \n",
    "    # 5.4) Training The Model\n",
    "    pipe.fit(X_train, y_train)\n",
    "    \n",
    "    # 5.5) Predicting And Storing The Accuracy At Different N_Estimators\n",
    "    y_pred = pipe.predict(X_test)\n",
    "    scores.append(accuracy_score(y_test, y_pred))\n",
    "\n",
    "# 5.6) Accuracy Graph (X-Axis = N_Estimators, Y-Axis = Accuracy)\n",
    "plt.plot(range(1, 201, jump), scores)\n",
    "plt.xlabel('Value of n_estimators for Random Forest Classifier')\n",
    "plt.ylabel('Testing Accuracy')\n",
    "\n",
    "# 5.7) Getting The Max Accuracy With Its N_Estimator\n",
    "maxs = max(scores)\n",
    "maxs_idx = scores.index(maxs)\n",
    "print(\"Accuracy Score : \", maxs, \"with n_estimators : \", pow(jump,maxs_idx))"
   ]
  },
  {
   "cell_type": "code",
   "execution_count": 8,
   "id": "cfc88312",
   "metadata": {},
   "outputs": [],
   "source": [
    "# 6) Creating RandomForestClassifier Object With Default N_Estimators Which Is \"100\"\n",
    "\n",
    "transformer2 = RandomForestClassifier()"
   ]
  },
  {
   "cell_type": "code",
   "execution_count": 9,
   "id": "b3f2db62",
   "metadata": {},
   "outputs": [],
   "source": [
    "# 7) Creating The Pipeline With OneHotEncoder And RandomForestClassifier\n",
    "\n",
    "pipe = Pipeline([('transformer1', transformer1), ('transformer2', transformer2)])"
   ]
  },
  {
   "cell_type": "code",
   "execution_count": 10,
   "id": "5669daa7",
   "metadata": {},
   "outputs": [
    {
     "data": {
      "text/html": [
       "<style>#sk-container-id-1 {color: black;}#sk-container-id-1 pre{padding: 0;}#sk-container-id-1 div.sk-toggleable {background-color: white;}#sk-container-id-1 label.sk-toggleable__label {cursor: pointer;display: block;width: 100%;margin-bottom: 0;padding: 0.3em;box-sizing: border-box;text-align: center;}#sk-container-id-1 label.sk-toggleable__label-arrow:before {content: \"▸\";float: left;margin-right: 0.25em;color: #696969;}#sk-container-id-1 label.sk-toggleable__label-arrow:hover:before {color: black;}#sk-container-id-1 div.sk-estimator:hover label.sk-toggleable__label-arrow:before {color: black;}#sk-container-id-1 div.sk-toggleable__content {max-height: 0;max-width: 0;overflow: hidden;text-align: left;background-color: #f0f8ff;}#sk-container-id-1 div.sk-toggleable__content pre {margin: 0.2em;color: black;border-radius: 0.25em;background-color: #f0f8ff;}#sk-container-id-1 input.sk-toggleable__control:checked~div.sk-toggleable__content {max-height: 200px;max-width: 100%;overflow: auto;}#sk-container-id-1 input.sk-toggleable__control:checked~label.sk-toggleable__label-arrow:before {content: \"▾\";}#sk-container-id-1 div.sk-estimator input.sk-toggleable__control:checked~label.sk-toggleable__label {background-color: #d4ebff;}#sk-container-id-1 div.sk-label input.sk-toggleable__control:checked~label.sk-toggleable__label {background-color: #d4ebff;}#sk-container-id-1 input.sk-hidden--visually {border: 0;clip: rect(1px 1px 1px 1px);clip: rect(1px, 1px, 1px, 1px);height: 1px;margin: -1px;overflow: hidden;padding: 0;position: absolute;width: 1px;}#sk-container-id-1 div.sk-estimator {font-family: monospace;background-color: #f0f8ff;border: 1px dotted black;border-radius: 0.25em;box-sizing: border-box;margin-bottom: 0.5em;}#sk-container-id-1 div.sk-estimator:hover {background-color: #d4ebff;}#sk-container-id-1 div.sk-parallel-item::after {content: \"\";width: 100%;border-bottom: 1px solid gray;flex-grow: 1;}#sk-container-id-1 div.sk-label:hover label.sk-toggleable__label {background-color: #d4ebff;}#sk-container-id-1 div.sk-serial::before {content: \"\";position: absolute;border-left: 1px solid gray;box-sizing: border-box;top: 0;bottom: 0;left: 50%;z-index: 0;}#sk-container-id-1 div.sk-serial {display: flex;flex-direction: column;align-items: center;background-color: white;padding-right: 0.2em;padding-left: 0.2em;position: relative;}#sk-container-id-1 div.sk-item {position: relative;z-index: 1;}#sk-container-id-1 div.sk-parallel {display: flex;align-items: stretch;justify-content: center;background-color: white;position: relative;}#sk-container-id-1 div.sk-item::before, #sk-container-id-1 div.sk-parallel-item::before {content: \"\";position: absolute;border-left: 1px solid gray;box-sizing: border-box;top: 0;bottom: 0;left: 50%;z-index: -1;}#sk-container-id-1 div.sk-parallel-item {display: flex;flex-direction: column;z-index: 1;position: relative;background-color: white;}#sk-container-id-1 div.sk-parallel-item:first-child::after {align-self: flex-end;width: 50%;}#sk-container-id-1 div.sk-parallel-item:last-child::after {align-self: flex-start;width: 50%;}#sk-container-id-1 div.sk-parallel-item:only-child::after {width: 0;}#sk-container-id-1 div.sk-dashed-wrapped {border: 1px dashed gray;margin: 0 0.4em 0.5em 0.4em;box-sizing: border-box;padding-bottom: 0.4em;background-color: white;}#sk-container-id-1 div.sk-label label {font-family: monospace;font-weight: bold;display: inline-block;line-height: 1.2em;}#sk-container-id-1 div.sk-label-container {text-align: center;}#sk-container-id-1 div.sk-container {/* jupyter's `normalize.less` sets `[hidden] { display: none; }` but bootstrap.min.css set `[hidden] { display: none !important; }` so we also need the `!important` here to be able to override the default hidden behavior on the sphinx rendered scikit-learn.org. See: https://github.com/scikit-learn/scikit-learn/issues/21755 */display: inline-block !important;position: relative;}#sk-container-id-1 div.sk-text-repr-fallback {display: none;}</style><div id=\"sk-container-id-1\" class=\"sk-top-container\"><div class=\"sk-text-repr-fallback\"><pre>Pipeline(steps=[(&#x27;transformer1&#x27;,\n",
       "                 ColumnTransformer(remainder=&#x27;passthrough&#x27;,\n",
       "                                   transformers=[(&#x27;ohe_first_second_venue&#x27;,\n",
       "                                                  OneHotEncoder(handle_unknown=&#x27;ignore&#x27;,\n",
       "                                                                sparse_output=False),\n",
       "                                                  [0, 1, 2])])),\n",
       "                (&#x27;transformer2&#x27;, RandomForestClassifier())])</pre><b>In a Jupyter environment, please rerun this cell to show the HTML representation or trust the notebook. <br />On GitHub, the HTML representation is unable to render, please try loading this page with nbviewer.org.</b></div><div class=\"sk-container\" hidden><div class=\"sk-item sk-dashed-wrapped\"><div class=\"sk-label-container\"><div class=\"sk-label sk-toggleable\"><input class=\"sk-toggleable__control sk-hidden--visually\" id=\"sk-estimator-id-1\" type=\"checkbox\" ><label for=\"sk-estimator-id-1\" class=\"sk-toggleable__label sk-toggleable__label-arrow\">Pipeline</label><div class=\"sk-toggleable__content\"><pre>Pipeline(steps=[(&#x27;transformer1&#x27;,\n",
       "                 ColumnTransformer(remainder=&#x27;passthrough&#x27;,\n",
       "                                   transformers=[(&#x27;ohe_first_second_venue&#x27;,\n",
       "                                                  OneHotEncoder(handle_unknown=&#x27;ignore&#x27;,\n",
       "                                                                sparse_output=False),\n",
       "                                                  [0, 1, 2])])),\n",
       "                (&#x27;transformer2&#x27;, RandomForestClassifier())])</pre></div></div></div><div class=\"sk-serial\"><div class=\"sk-item sk-dashed-wrapped\"><div class=\"sk-label-container\"><div class=\"sk-label sk-toggleable\"><input class=\"sk-toggleable__control sk-hidden--visually\" id=\"sk-estimator-id-2\" type=\"checkbox\" ><label for=\"sk-estimator-id-2\" class=\"sk-toggleable__label sk-toggleable__label-arrow\">transformer1: ColumnTransformer</label><div class=\"sk-toggleable__content\"><pre>ColumnTransformer(remainder=&#x27;passthrough&#x27;,\n",
       "                  transformers=[(&#x27;ohe_first_second_venue&#x27;,\n",
       "                                 OneHotEncoder(handle_unknown=&#x27;ignore&#x27;,\n",
       "                                               sparse_output=False),\n",
       "                                 [0, 1, 2])])</pre></div></div></div><div class=\"sk-parallel\"><div class=\"sk-parallel-item\"><div class=\"sk-item\"><div class=\"sk-label-container\"><div class=\"sk-label sk-toggleable\"><input class=\"sk-toggleable__control sk-hidden--visually\" id=\"sk-estimator-id-3\" type=\"checkbox\" ><label for=\"sk-estimator-id-3\" class=\"sk-toggleable__label sk-toggleable__label-arrow\">ohe_first_second_venue</label><div class=\"sk-toggleable__content\"><pre>[0, 1, 2]</pre></div></div></div><div class=\"sk-serial\"><div class=\"sk-item\"><div class=\"sk-estimator sk-toggleable\"><input class=\"sk-toggleable__control sk-hidden--visually\" id=\"sk-estimator-id-4\" type=\"checkbox\" ><label for=\"sk-estimator-id-4\" class=\"sk-toggleable__label sk-toggleable__label-arrow\">OneHotEncoder</label><div class=\"sk-toggleable__content\"><pre>OneHotEncoder(handle_unknown=&#x27;ignore&#x27;, sparse_output=False)</pre></div></div></div></div></div></div><div class=\"sk-parallel-item\"><div class=\"sk-item\"><div class=\"sk-label-container\"><div class=\"sk-label sk-toggleable\"><input class=\"sk-toggleable__control sk-hidden--visually\" id=\"sk-estimator-id-5\" type=\"checkbox\" ><label for=\"sk-estimator-id-5\" class=\"sk-toggleable__label sk-toggleable__label-arrow\">remainder</label><div class=\"sk-toggleable__content\"><pre>[]</pre></div></div></div><div class=\"sk-serial\"><div class=\"sk-item\"><div class=\"sk-estimator sk-toggleable\"><input class=\"sk-toggleable__control sk-hidden--visually\" id=\"sk-estimator-id-6\" type=\"checkbox\" ><label for=\"sk-estimator-id-6\" class=\"sk-toggleable__label sk-toggleable__label-arrow\">passthrough</label><div class=\"sk-toggleable__content\"><pre>passthrough</pre></div></div></div></div></div></div></div></div><div class=\"sk-item\"><div class=\"sk-estimator sk-toggleable\"><input class=\"sk-toggleable__control sk-hidden--visually\" id=\"sk-estimator-id-7\" type=\"checkbox\" ><label for=\"sk-estimator-id-7\" class=\"sk-toggleable__label sk-toggleable__label-arrow\">RandomForestClassifier</label><div class=\"sk-toggleable__content\"><pre>RandomForestClassifier()</pre></div></div></div></div></div></div></div>"
      ],
      "text/plain": [
       "Pipeline(steps=[('transformer1',\n",
       "                 ColumnTransformer(remainder='passthrough',\n",
       "                                   transformers=[('ohe_first_second_venue',\n",
       "                                                  OneHotEncoder(handle_unknown='ignore',\n",
       "                                                                sparse_output=False),\n",
       "                                                  [0, 1, 2])])),\n",
       "                ('transformer2', RandomForestClassifier())])"
      ]
     },
     "execution_count": 10,
     "metadata": {},
     "output_type": "execute_result"
    }
   ],
   "source": [
    "# 8) Training The Model\n",
    "\n",
    "pipe.fit(X_train, y_train)"
   ]
  },
  {
   "cell_type": "code",
   "execution_count": 11,
   "id": "6c522b60",
   "metadata": {},
   "outputs": [],
   "source": [
    "# 9) Pipeline Diagram (Optional)\n",
    "\n",
    "from sklearn import set_config\n",
    "set_config(display = 'diagram')"
   ]
  },
  {
   "cell_type": "code",
   "execution_count": 12,
   "id": "6bf78d77",
   "metadata": {},
   "outputs": [
    {
     "name": "stdout",
     "output_type": "stream",
     "text": [
      "0.9766621438263229\n"
     ]
    }
   ],
   "source": [
    "# 10) Finding The Current Accuracy With Default N_Estimators Which Is \"100\"\n",
    "\n",
    "y_pred = pipe.predict(X_test)\n",
    "print(accuracy_score(y_test, y_pred))"
   ]
  },
  {
   "cell_type": "code",
   "execution_count": 13,
   "id": "7475a837",
   "metadata": {},
   "outputs": [
    {
     "name": "stdout",
     "output_type": "stream",
     "text": [
      "Sri Lanka\n"
     ]
    }
   ],
   "source": [
    "# 11) Making A Sample Prediction To Make Sure\n",
    "\n",
    "prediction = pd.DataFrame([['Sri Lanka', 'India', 'Shere Bangla National Stadium']], columns = ['Bat First', 'Bat Second', 'Venue'])\n",
    "winner = pipe.predict(prediction)\n",
    "print(str(winner[0]))"
   ]
  },
  {
   "cell_type": "code",
   "execution_count": 15,
   "id": "cfd15542",
   "metadata": {},
   "outputs": [],
   "source": [
    "# 12) Creating The GUI\n",
    "\n",
    "# 12.1) Setting Appearance And Theme To Make GUI Look Appealing\n",
    "ctk.set_appearance_mode(\"Dark\") \n",
    "ctk.set_default_color_theme(\"blue\") \n",
    "\n",
    "\n",
    "# 12.2) Creating GUI Class\n",
    "class App(ctk.CTk):\n",
    "    \n",
    "    # 12.3) Making Function Which Is Called When Predict Is Pressed\n",
    "    def button_event(self):\n",
    "        teamA = self.teamAOptions.get()\n",
    "        teamB = self.teamBOptions.get()\n",
    "        venue = self.venueOptions.get()\n",
    "        tossWin = self.tossWinOptions.get()\n",
    "        \n",
    "        if tossWin == teamA:\n",
    "            prediction = pd.DataFrame([[teamA, teamB, venue]], columns = ['Bat First', 'Bat Second', 'Venue'])\n",
    "        elif tossWin == teamB:\n",
    "            prediction = pd.DataFrame([[teamB, teamA, venue]], columns = ['Bat First', 'Bat Second', 'Venue'])\n",
    "            \n",
    "        winner = pipe.predict(prediction)\n",
    "        \n",
    "        for i in range(101):\n",
    "            self.after(1)\n",
    "            self.progressBar.set(i/100)\n",
    "            self.progressBar.update()\n",
    "            \n",
    "        self.predictionLabel.configure(text = str(winner[0]))\n",
    "        \n",
    "    # 12.3) Making Function Which Is Called When DropDown Menu Is Clicked    \n",
    "    def updateAllDropDown(self, choice):\n",
    "        teamA = self.teamAOptions.get()\n",
    "        teamB = self.teamBOptions.get()\n",
    "        tempTeamsA = teams.copy()\n",
    "        tempTeamsB = teams.copy()\n",
    "        tempTeamsA.remove(teamB)\n",
    "        tempTeamsB.remove(teamA)\n",
    "        self.teamA.configure(values = tempTeamsA)\n",
    "        self.teamB.configure(values = tempTeamsB)\n",
    "        self.tossWin.configure(values = [teamA, teamB])\n",
    "        self.tossWin.set(teamA)\n",
    "            \n",
    "    # 12.4) Making Function Which Is Called When Window Is Closed\n",
    "    def quit_me(self):\n",
    "        self.quit()\n",
    "        self.destroy()\n",
    "        \n",
    "    # 12.5) Making Class Constructor\n",
    "    def __init__(self, *args, **kwargs):\n",
    "        super().__init__(*args, **kwargs)\n",
    "\n",
    "        # 12.6) Setting Window Title And Size\n",
    "        self.title(\"SIX SENSE CRICKET PREDICTIONS\")\n",
    "        self.geometry(\"1000x500\")\n",
    "        \n",
    "        \n",
    "        # 12.7) Making All Components (Labels/DropDown/Button/ProgressBar)\n",
    "        self.titleLabel = ctk.CTkLabel(self, text = \"SIX SENSE CRICKET PREDICTIONS\", font = (\"Arial\", 40, \"bold\", \"underline\"), text_color = \"White\")\n",
    "        self.titleLabel.place(relx = 0.5, rely = 0.1, anchor = ctk.N)\n",
    "        \n",
    "        self.teamALabel = ctk.CTkLabel(self, width = 150, text = \"First Team : \", text_color = \"White\", font = (\"Arial\", 20))\n",
    "        self.teamALabel.place(x = 100, rely = 0.3)\n",
    "            \n",
    "        self.teamAOptions = ctk.StringVar()\n",
    "        self.teamA = ctk.CTkOptionMenu(self, variable = self.teamAOptions, width = 150, values = teams, font = (\"Arial\", 20), command = self.updateAllDropDown)\n",
    "        self.teamA.place(x = 250, rely = 0.3)\n",
    "        self.teamAOptions.set(teams[0])\n",
    "        \n",
    "        self.teamBLabel = ctk.CTkLabel(self, width = 150, text = \"Second Team : \", text_color = \"White\", font = (\"Arial\", 20))\n",
    "        self.teamBLabel.place(x = 600, rely = 0.3)\n",
    "        \n",
    "        self.teamBOptions = ctk.StringVar()\n",
    "        self.teamB = ctk.CTkOptionMenu(self, variable = self.teamBOptions, width = 150, values = teams, font = (\"Arial\", 20), command = self.updateAllDropDown)\n",
    "        self.teamB.place(x = 750, rely = 0.3)\n",
    "        self.teamBOptions.set(teams[1])\n",
    "        \n",
    "        self.venueLabel = ctk.CTkLabel(self, width = 150, text = \"Venue : \", text_color = \"White\", font = (\"Arial\", 20))\n",
    "        self.venueLabel.place(x = 175, rely = 0.4)\n",
    "        \n",
    "        self.venueOptions = ctk.StringVar()\n",
    "        self.venue = ctk.CTkOptionMenu(self, variable = self.venueOptions, width = 150, values = df['Venue'].unique(), font = (\"Arial\", 20))\n",
    "        self.venue.place(x = 325, rely = 0.4)\n",
    "        self.venueOptions.set(df['Venue'].unique()[0])\n",
    "        \n",
    "        self.tossWinLabel = ctk.CTkLabel(self, width = 150, text = \"Toss : \", text_color = \"White\", font = (\"Arial\", 20))\n",
    "        self.tossWinLabel.place(x = 525, rely = 0.4)\n",
    "        \n",
    "        self.tossWinOptions = ctk.StringVar()\n",
    "        self.tossWin = ctk.CTkOptionMenu(self, variable = self.tossWinOptions, width = 150, values = teams, font = (\"Arial\", 20))\n",
    "        self.tossWin.place(x = 675, rely = 0.4)\n",
    "        self.tossWinOptions.set(self.teamAOptions.get())\n",
    "        \n",
    "        \n",
    "        self.predictButton = ctk.CTkButton(self, width = 250, text = \"Predict\", command = self.button_event, font = (\"Arial\", 30))\n",
    "        self.predictButton.place(x = 375, rely = 0.5)\n",
    "        \n",
    "        self.progressBar = ctk.CTkProgressBar(self, width = 800, mode = \"determinate\")\n",
    "        self.progressBar.place(x = 100, rely = 0.7)\n",
    "        self.progressBar.set(0)\n",
    "        \n",
    "        self.outcomeLabel = ctk.CTkLabel(self, width = 600, text = \"The Team Which Is More Likely To Win Is : \", text_color = \"White\", font = (\"Arial\", 30))\n",
    "        self.outcomeLabel.place(x = 125, rely = 0.8)\n",
    "        \n",
    "        self.predictionLabel = ctk.CTkLabel(self, width = 150, text = \"\", text_color = \"White\", font = (\"Arial\", 30))\n",
    "        self.predictionLabel.place(x = 725, rely = 0.8)\n",
    "        self.updateAllDropDown(\"HACK\")\n",
    "        \n",
    "# 12.8) Running The App (GUI)\n",
    "if __name__ == \"__main__\":\n",
    "    app = App()\n",
    "    app.protocol(\"WM_DELETE_WINDOW\", app.quit_me)\n",
    "    app.mainloop()"
   ]
  }
 ],
 "metadata": {
  "kernelspec": {
   "display_name": "Python 3 (ipykernel)",
   "language": "python",
   "name": "python3"
  },
  "language_info": {
   "codemirror_mode": {
    "name": "ipython",
    "version": 3
   },
   "file_extension": ".py",
   "mimetype": "text/x-python",
   "name": "python",
   "nbconvert_exporter": "python",
   "pygments_lexer": "ipython3",
   "version": "3.11.4"
  }
 },
 "nbformat": 4,
 "nbformat_minor": 5
}
